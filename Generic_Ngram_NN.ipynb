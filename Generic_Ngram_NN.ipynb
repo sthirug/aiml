{
  "cells": [
    {
      "cell_type": "markdown",
      "metadata": {
        "id": "view-in-github",
        "colab_type": "text"
      },
      "source": [
        "<a href=\"https://colab.research.google.com/github/sthirug/aiml/blob/main/Generic_Ngram_NN.ipynb\" target=\"_parent\"><img src=\"https://colab.research.google.com/assets/colab-badge.svg\" alt=\"Open In Colab\"/></a>"
      ]
    },
    {
      "cell_type": "markdown",
      "metadata": {
        "id": "nDZVZgRXnaRw"
      },
      "source": [
        "# This is a generic N-Gram using Neural Network and One Hot Encoding"
      ]
    },
    {
      "cell_type": "markdown",
      "source": [
        "# 0. Configurations"
      ],
      "metadata": {
        "id": "ibo2oqZwTpAw"
      }
    },
    {
      "cell_type": "code",
      "execution_count": null,
      "metadata": {
        "id": "tHaPyWzNf38V"
      },
      "outputs": [],
      "source": [
        "import torch\n",
        "import os\n",
        "import matplotlib.pyplot as plt\n",
        "import random\n",
        "import numpy as np"
      ]
    },
    {
      "cell_type": "code",
      "execution_count": null,
      "metadata": {
        "id": "Ln-kCsBqoa_V"
      },
      "outputs": [],
      "source": [
        "# CONFIGURATIONS\n",
        "\n",
        "# N-Gram\n",
        "ngram_size = 3\n",
        "input_size = ngram_size - 1\n",
        "\n",
        "# Random seed value\n",
        "seed = 2147483647\n",
        "\n",
        "# Random Generator\n",
        "g = torch.Generator()\n",
        "g.manual_seed(seed)\n",
        "\n",
        "# Dataset splits\n",
        "train = 0.7\n",
        "dev = 0.1\n",
        "test = 0.2\n",
        "\n",
        "# Hyperparameters\n",
        "batch_sz = 128 #5#128\n",
        "lr = 30\n",
        "epocs = 2\n",
        "\n",
        "# Source file\n",
        "name_files = {\"English\":\"/content/drive/MyDrive/Colab Notebooks/DL Experiments/names.txt\",\"Indian\":\"/content/drive/MyDrive/Colab Notebooks/DL Experiments/IndianNames.txt\"}\n",
        "\n",
        "name_file = name_files.get(\"Indian\")"
      ]
    },
    {
      "cell_type": "markdown",
      "source": [
        "# 1. Data preparation"
      ],
      "metadata": {
        "id": "vd1wAXUmTs2c"
      }
    },
    {
      "cell_type": "code",
      "execution_count": null,
      "metadata": {
        "colab": {
          "base_uri": "https://localhost:8080/"
        },
        "id": "GStza9cxf8Ox",
        "outputId": "24d460e3-cc2e-4f50-f373-54f276a0a580"
      },
      "outputs": [
        {
          "output_type": "execute_result",
          "data": {
            "text/plain": [
              "55691"
            ]
          },
          "metadata": {},
          "execution_count": 6
        }
      ],
      "source": [
        "# Data preperations | Get all names into a list\n",
        "all_names = open(name_file,'r').read().lower()\n",
        "\n",
        "spl_chars = ['.', ' ','-']\n",
        "for s in spl_chars:\n",
        "  all_names = all_names.replace(s, '')\n",
        "\n",
        "names = all_names.splitlines()\n",
        "len(names)"
      ]
    },
    {
      "cell_type": "code",
      "execution_count": null,
      "metadata": {
        "id": "Dh9NsRFdgU_S"
      },
      "outputs": [],
      "source": [
        "# Build the vocabulary of characters with '.' denoting start or end of a word\n",
        "vocab = ['.'] + sorted(set(''.join(names)))\n",
        "l=len(vocab)\n",
        "\n",
        "# Assign lookups for Vocab to integer and Integer to Vocab\n",
        "vtoi = {c:i for i,c in enumerate(vocab)}\n",
        "itov = {i:c for i,c in enumerate(vocab)}\n",
        "prefix = ''.join(['.' for _ in range(input_size)])"
      ]
    },
    {
      "cell_type": "code",
      "execution_count": null,
      "metadata": {
        "id": "2MU1DpoBe3sr"
      },
      "outputs": [],
      "source": [
        "# #spot check\n",
        "# print(prefix)\n",
        "\n",
        "# tp = [l for _ in range(ngram_size)]\n",
        "# dim_size = tuple(tp)\n",
        "# dim_size"
      ]
    },
    {
      "cell_type": "code",
      "execution_count": null,
      "metadata": {
        "id": "RhTnUsnKmTlq"
      },
      "outputs": [],
      "source": [
        "# Build the dataset of Xs and Ys\n",
        "full_ds = []\n",
        "\n",
        "for n in names:\n",
        "  n = prefix + n + '.'\n",
        "  #print(n)\n",
        "  for i in range(len(n) - input_size):\n",
        "    t = n[i:i+ngram_size]\n",
        "    full_ds.append([t[:input_size], t[input_size:]])\n",
        "\n",
        "full_ds_len = len(full_ds)"
      ]
    },
    {
      "cell_type": "code",
      "execution_count": null,
      "metadata": {
        "id": "hSksIPC-p4GQ"
      },
      "outputs": [],
      "source": [
        "# batch_size = len(full_ds)"
      ]
    },
    {
      "cell_type": "code",
      "execution_count": null,
      "metadata": {
        "colab": {
          "base_uri": "https://localhost:8080/"
        },
        "id": "24PMVsV-QVQ1",
        "outputId": "925b17ef-2992-4f0a-e787-2ad88f9f505a"
      },
      "outputs": [
        {
          "output_type": "execute_result",
          "data": {
            "text/plain": [
              "torch.Size([505457, 54])"
            ]
          },
          "metadata": {},
          "execution_count": 11
        }
      ],
      "source": [
        "xsenc_base_ds = torch.zeros((full_ds_len, input_size, l))\n",
        "\n",
        "for b in range(full_ds_len):\n",
        "  input = list(full_ds[b][0])\n",
        "  #print(input) \n",
        "  for i in range(input_size):\n",
        "    c = input[i]\n",
        "    x = vtoi.get(c)\n",
        "    xenc = torch.nn.functional.one_hot(torch.tensor(x), num_classes=l).float()\n",
        "    xsenc_base_ds[b,i] += xenc\n",
        "\n",
        "xsenc_flat_ds = xsenc_base_ds.view(full_ds_len,-1)\n",
        "xsenc_flat_ds.shape"
      ]
    },
    {
      "cell_type": "code",
      "execution_count": null,
      "metadata": {
        "id": "bwqOUzr6gF35"
      },
      "outputs": [],
      "source": [
        "# # Spot check if encoding is done properly\n",
        "# n = 10\n",
        "# plt.figure(figsize=(12, 8))\n",
        "# plt.imshow(xsenc_flat[:n],  aspect='auto')\n",
        "# plt.xlabel('Charactor(Uchars) index')\n",
        "# plt.ylabel('Example # from Batch')\n",
        "# plt.grid(axis='both')\n",
        "# plt.xticks(np.arange(0, l), labels=np.arange(0, l))\n",
        "# plt.yticks(np.arange(0, n), labels=np.arange(0, n))\n",
        "# plt.show()\n",
        "\n",
        "# print(dataset[:n])"
      ]
    },
    {
      "cell_type": "code",
      "execution_count": null,
      "metadata": {
        "id": "LpotrqufUa4f"
      },
      "outputs": [],
      "source": [
        "ys = [vtoi.get(e[1]) for e in full_ds]"
      ]
    },
    {
      "cell_type": "markdown",
      "metadata": {
        "id": "y9SajClY_wBb"
      },
      "source": [
        "# Part 2 (Optimization with full batch GD and not using a class/Dev/Train/Test split)"
      ]
    },
    {
      "cell_type": "code",
      "execution_count": null,
      "metadata": {
        "id": "bQwCVu5QWgbh"
      },
      "outputs": [],
      "source": [
        "# rng = list(range(len(full_ds)))\n",
        "# #print(rng[:10])\n",
        "# random.shuffle(rng)\n",
        "# #print(rng[:10])\n",
        "\n",
        "# batch_count = int(full_ds_len/batch_sz)\n",
        "# batch_count"
      ]
    },
    {
      "cell_type": "code",
      "execution_count": null,
      "metadata": {
        "id": "U7mWT_sqWgHu"
      },
      "outputs": [],
      "source": [
        "# idx1 = int(train*full_ds_len)\n",
        "# idx2 = int((train+dev)*full_ds_len)\n",
        "\n",
        "# train_ds = full_ds[:idx1]\n",
        "# dev_ds = full_ds[idx1:idx2]\n",
        "# test_ds = full_ds[idx2:]\n",
        "\n",
        "# # print(full_ds_len)\n",
        "# # print(len(train_ds))\n",
        "# # print(len(dev_ds))\n",
        "# # print(len(test_ds))"
      ]
    },
    {
      "cell_type": "code",
      "execution_count": null,
      "metadata": {
        "colab": {
          "base_uri": "https://localhost:8080/"
        },
        "id": "MHVqpoUVohqu",
        "outputId": "b521afd2-ab63-4881-c361-d280a8efb04d"
      },
      "outputs": [
        {
          "output_type": "stream",
          "name": "stdout",
          "text": [
            "54 27\n"
          ]
        }
      ],
      "source": [
        "nin = l * input_size\n",
        "nout = l\n",
        "print(nin, nout)\n",
        "\n",
        "# Initialize weights\n",
        "W = torch.randn((nin, nout), requires_grad=True, generator=g)"
      ]
    },
    {
      "cell_type": "code",
      "execution_count": null,
      "metadata": {
        "id": "O5Wa8ry5br9Q"
      },
      "outputs": [],
      "source": [
        "# Initialize loss history and run number\n",
        "loss_hist = []\n",
        "run_no = 1"
      ]
    },
    {
      "cell_type": "code",
      "execution_count": null,
      "metadata": {
        "colab": {
          "base_uri": "https://localhost:8080/",
          "height": 314
        },
        "id": "CnIIbRzTohgw",
        "outputId": "a15de1a4-a002-437c-db3c-cbc49c665899"
      },
      "outputs": [
        {
          "output_type": "display_data",
          "data": {
            "text/plain": [
              "<Figure size 432x288 with 2 Axes>"
            ],
            "image/png": "[encoded data removed]"
          },
          "metadata": {
            "needs_background": "light"
          }
        },
        {
          "output_type": "execute_result",
          "data": {
            "text/plain": [
              "[[10, 40, 2.3975472450256348]]"
            ]
          },
          "metadata": {},
          "execution_count": 21
        }
      ],
      "source": [
        "batch_sz = len(ys)\n",
        "# Training\n",
        "\n",
        "# Override learning rate\n",
        "lr = 10\n",
        "itr = 10\n",
        "\n",
        "for i in range(itr):\n",
        "  # Forward pass\n",
        "  logits = xsenc_flat_ds @ W  # For BiGram => b X 27 @ 27 X 27 = b X 27\n",
        "  counts = torch.exp(logits) # For BiGram => b X 27\n",
        "  probs = counts/counts.sum(dim = 1, keepdim = True) # For BiGram => b X 27\n",
        "\n",
        "  # Calculate loss\n",
        "  ixes = list(range(batch_sz))\n",
        "  loss = -torch.log(probs[ixes, ys]).mean()\n",
        "\n",
        "  loss_hist.append([lr,run_no,loss.item()])\n",
        "  run_no += 1\n",
        "\n",
        "  # Backward pass\n",
        "  W.grad = None\n",
        "  loss.backward()\n",
        "\n",
        "  # Update gradients in the opposite direction of the gradient\n",
        "  W.data += lr * -W.grad\n",
        "\n",
        "# Display the loss\n",
        "plot_data = loss_hist[::-1]\n",
        "total = len(plot_data)\n",
        "recent = int(0.20 * total)\n",
        "x1 = [row[1] for row in plot_data]\n",
        "y1 = [row[2] for row in plot_data]\n",
        "x2 = [row[1] for row in plot_data[:recent]]\n",
        "y2 = [row[2] for row in plot_data[:recent]]\n",
        "\n",
        "#Entire loss curve\n",
        "plt.subplot(2,1,1)\n",
        "plt.plot(x1, y1)\n",
        "plt.title('Loss across all iterations')\n",
        "plt.xlabel('Iteration')\n",
        "plt.ylabel('Loss')\n",
        "\n",
        "#recent loss curve in last 10% of iterations\n",
        "plt.subplot(2,1,2)\n",
        "plt.plot(x2, y2)\n",
        "plt.title('Loss in last {} iterations'.format(recent))\n",
        "plt.xlabel('Iteration')\n",
        "plt.ylabel('Loss')\n",
        "\n",
        "plt.tight_layout()\n",
        "plt.show()\n",
        "\n",
        "loss_hist[::-1][:(1)]"
      ]
    },
    {
      "cell_type": "code",
      "execution_count": null,
      "metadata": {
        "id": "ljMDPnUlqs1v"
      },
      "outputs": [],
      "source": [
        "# ## Inference - Generate new names :)\n",
        "\n",
        "# for i in range(20):\n",
        "#   ix = torch.tensor([0])\n",
        "\n",
        "#   pred = ''\n",
        "#   while True:\n",
        "#     xenc = torch.nn.functional.one_hot(ix, num_classes=l).float()\n",
        "#     logits = xenc @ W\n",
        "#     cts = torch.exp(logits)\n",
        "#     probx = cts/cts.sum(dim=1, keepdim=True)\n",
        "#     ix = torch.multinomial(probx.view(l), 1, replacement=True, generator=g)\n",
        "\n",
        "#     if ix.item() == 0:\n",
        "#       # if pred.strip() == '':\n",
        "#       #   print(ix)\n",
        "#       #   print(prob)\n",
        "#       #   print(counts)\n",
        "#       break\n",
        "\n",
        "#     pred += itov.get(ix.item())\n",
        "\n",
        "#   print(pred)"
      ]
    },
    {
      "cell_type": "code",
      "execution_count": null,
      "metadata": {
        "colab": {
          "base_uri": "https://localhost:8080/"
        },
        "id": "WumqwveFqsy5",
        "outputId": "6f6dbf0e-f94c-4fb3-9d3e-cc3cb277fa74"
      },
      "outputs": [
        {
          "output_type": "execute_result",
          "data": {
            "text/plain": [
              "[[10, 40, 2.3975472450256348],\n",
              " [10, 39, 2.403494119644165],\n",
              " [10, 38, 2.409675121307373],\n",
              " [10, 37, 2.416107416152954],\n",
              " [10, 36, 2.42280912399292],\n",
              " [10, 35, 2.4298009872436523],\n",
              " [10, 34, 2.437105655670166],\n",
              " [10, 33, 2.4447500705718994],\n",
              " [10, 32, 2.4527618885040283],\n",
              " [10, 31, 2.4611732959747314],\n",
              " [10, 30, 2.470021963119507],\n",
              " [10, 29, 2.4793479442596436],\n",
              " [10, 28, 2.4891984462738037],\n",
              " [10, 27, 2.4996252059936523],\n",
              " [10, 26, 2.510688543319702],\n",
              " [10, 25, 2.522458076477051],\n",
              " [10, 24, 2.535012722015381],\n",
              " [10, 23, 2.548445463180542],\n",
              " [10, 22, 2.5628678798675537],\n",
              " [10, 21, 2.578411817550659],\n",
              " [10, 20, 2.5952389240264893],\n",
              " [10, 19, 2.6135458946228027],\n",
              " [10, 18, 2.6335768699645996],\n",
              " [10, 17, 2.6556336879730225],\n",
              " [10, 16, 2.6800906658172607],\n",
              " [10, 15, 2.707411766052246],\n",
              " [10, 14, 2.7381696701049805],\n",
              " [10, 13, 2.7730700969696045],\n",
              " [10, 12, 2.8129849433898926],\n",
              " [10, 11, 2.8589892387390137]]"
            ]
          },
          "metadata": {},
          "execution_count": 24
        }
      ],
      "source": [
        "loss_hist[::-1][:30]"
      ]
    },
    {
      "cell_type": "code",
      "execution_count": null,
      "metadata": {
        "colab": {
          "base_uri": "https://localhost:8080/"
        },
        "id": "ORky3usIqsv5",
        "outputId": "466c96e6-6a17-4ff6-8cd5-8dcd2c587bad"
      },
      "outputs": [
        {
          "output_type": "stream",
          "name": "stdout",
          "text": [
            "***** Prediction of Indian names *****\n",
            "\n",
            "n\n",
            "vei\n",
            "mbjharensofkbqma\n",
            "vabhganva\n",
            "mith\n",
            "ankaviqarinahrliee\n",
            "sugmkkdha\n",
            "mahaan *** IN TRAINING SET********************\n",
            "liuhan\n",
            "koqobhanisha\n",
            "\n",
            "10.0% found in training set\n"
          ]
        }
      ],
      "source": [
        "## Inference - Generate new names :)\n",
        "\n",
        "print(\"***** Prediction of {} names *****\".format(next((k for k, v in name_files.items() if v == name_file), None)))\n",
        "print('')\n",
        "\n",
        "nid = 0\n",
        "nop = 10\n",
        "\n",
        "for i in range(nop):\n",
        "  ixes = torch.zeros((input_size), dtype = torch.int64)\n",
        "\n",
        "  pred = ''\n",
        "  while True:\n",
        "    # print(i, ixes)\n",
        "\n",
        "    encoded = []\n",
        "    for ix in ixes:\n",
        "      a = torch.nn.functional.one_hot(ix, num_classes=l).float()\n",
        "      encoded += a.tolist()\n",
        "    xenc = torch.tensor(encoded).view(1,-1)\n",
        "\n",
        "    logits = xenc @ W\n",
        "    cts = torch.exp(logits)\n",
        "    probx = cts/cts.sum(dim=1, keepdim=True)\n",
        "    ix = torch.multinomial(probx.view(l), 1, replacement=True, generator=g)\n",
        "\n",
        "    if ix.item() == 0:\n",
        "      break\n",
        "\n",
        "    ixes = torch.cat((ixes[1:],ix))\n",
        "    pred += itov.get(ix.item())\n",
        "\n",
        "  if pred in names:\n",
        "    pred += ' *** IN TRAINING SET********************'\n",
        "    nid += 1\n",
        "\n",
        "  print(pred)\n",
        "\n",
        "print('')\n",
        "print(f'{nid*100/nop}% found in training set')"
      ]
    },
    {
      "cell_type": "markdown",
      "metadata": {
        "id": "TKz4vA-QHXPK"
      },
      "source": [
        "# Part 2 (Optimization with class and mini-batch GD) | No regularization yet"
      ]
    },
    {
      "cell_type": "code",
      "execution_count": null,
      "metadata": {
        "id": "wha6Si1stARG"
      },
      "outputs": [],
      "source": [
        "class Layer:\n",
        "  def __init__(self, no_of_inputs, no_of_outputs):\n",
        "    self.nin = no_of_inputs\n",
        "    self.nout = no_of_outputs"
      ]
    },
    {
      "cell_type": "code",
      "execution_count": null,
      "metadata": {
        "id": "jb8udytXGQZS"
      },
      "outputs": [],
      "source": [
        "class Nnetwork:\n",
        "  def __init__(self, layers, xs, ys, train_split, dev_split, bsize, lr, epoch, generator, rl = 0.):\n",
        "\n",
        "    # Set all the instance variables\n",
        "    self._weights = []\n",
        "\n",
        "    self._layers = layers\n",
        "    self._nol = len(layers)\n",
        "\n",
        "    self._xs = xs\n",
        "    self._ys = ys\n",
        "    self._ds_len = len(xs)\n",
        "\n",
        "    self._train_split = train_split\n",
        "    self._dev_split = dev_split\n",
        "    self._test_split = 1. - self._train_split - self._dev_split\n",
        "\n",
        "    self._bsize = bsize\n",
        "    self._lr = lr\n",
        "\n",
        "    self._g = generator\n",
        "    self._rl = rl\n",
        "\n",
        "    self.ctr = 0\n",
        "    # Call the initialization methods\n",
        "    self.reset_hist()\n",
        "    self.split_data() # Train, Dev and Test split\n",
        "    #self.xs_b, self.ys_b = self.split_batches(self._train_xs, self._train_ys, self._bsize)\n",
        "    self.initialize_weights()\n",
        "\n",
        "  def __str__(self):\n",
        "    return '_nol: {} | xs_len: {} | ys_len {} | train_split {} | dev split {} | test split: {} | batch size: {} | lr: {} | train size: {}'.format(self._nol, len(self._xs), len(self._ys), self._train_split, self._dev_split, self._test_split, self._bsize, self._lr, len(self._train_xs))\n",
        "\n",
        "  def initialize_weights(self):\n",
        "    for l in self._layers:\n",
        "      _current_weight = torch.randn((l.nin,l.nout), requires_grad=True, generator=self._g)\n",
        "      self._weights.append(_current_weight)\n",
        "\n",
        "  def split_data(self):\n",
        "    i = list(range(self._ds_len))\n",
        "    random.shuffle(i)\n",
        "\n",
        "    idx1 = int(self._train_split*self._ds_len)\n",
        "    idx2 = int((self._train_split+self._dev_split)*self._ds_len)\n",
        "\n",
        "    self._train_xs = self._xs[:idx1]\n",
        "    self._dev_xs = self._xs[idx1:idx2]\n",
        "    self._test_xs = self._xs[idx2:]\n",
        "\n",
        "    self._train_ys = self._ys[:idx1]\n",
        "    self._dev_ys = self._ys[idx1:idx2]\n",
        "    self._test_ys = self._ys[idx2:]\n",
        "\n",
        "  def split_batches(self, xs, ys, bsize):\n",
        "    l = len(xs)\n",
        "    no_of_batches = int(l/bsize)\n",
        "    ixes = list(range(l))\n",
        "    random.shuffle(ixes)\n",
        "\n",
        "    xs_batches = [xs[ixes[i*bsize:(i*bsize+bsize)]] for i in range(no_of_batches)]\n",
        "    ys_batches = [ys[ixes[i*bsize:(i*bsize+bsize)]] for i in range(no_of_batches)]\n",
        "\n",
        "    return xs_batches, ys_batches\n",
        "\n",
        "  def forward_pass_and_loss(self, xs, ys, regularize = True):\n",
        "    bs = len(xs)\n",
        "    W = self._weights[0]\n",
        "\n",
        "    # Forward pass\n",
        "    logits = xs @ W\n",
        "    counts = torch.exp(logits)\n",
        "    probs = counts/counts.sum(dim = 1, keepdim = True)\n",
        "\n",
        "    # Calculate loss\n",
        "    ixes = list(range(bs))\n",
        "    loss = -torch.log(probs[ixes, ys]).mean() \n",
        "    \n",
        "    if regularize == True:\n",
        "      loss += self._rl * (W**2).mean()\n",
        "\n",
        "    return loss\n",
        "\n",
        "  def backward_pass(self, loss):\n",
        "    for w in self._weights:\n",
        "      w.grad = None   \n",
        "    loss.backward()\n",
        "\n",
        "  def update_gradients(self):\n",
        "    for w in self._weights:\n",
        "      w.data += self._lr * -w.grad    \n",
        "\n",
        "  def train(self, xs_b, ys_b):\n",
        "    train_loss = (self.forward_pass_and_loss(self._train_xs, self._train_ys)).item()\n",
        "    dev_loss = (self.forward_pass_and_loss(self._dev_xs, self._dev_ys, False)).item()\n",
        "    self._train_dev_loss_hist.append([self._epoch_no, train_loss, dev_loss])\n",
        "\n",
        "    self._epoch_no += 1\n",
        "    xs_b, ys_b = self.split_batches(xs_b, ys_b, self._bsize)\n",
        "\n",
        "    for xs, ys in zip(xs_b, ys_b):\n",
        "      loss = self.forward_pass_and_loss(xs, ys)\n",
        "      self.backward_pass(loss)\n",
        "      self.update_gradients()\n",
        "      self.add_fp_stats(loss.item())\n",
        "    # print(self._loss_hist[::-1][:(1)])\n",
        "\n",
        "  \n",
        "  def add_fp_stats(self, loss):\n",
        "    self._run_no += 1\n",
        "    self._loss_hist.append([self._lr, self._run_no,  loss])\n",
        "    # print(f'{train_loss=} {dev_loss=}')\n",
        " \n",
        "  def reset_hist(self):\n",
        "    self._run_no = 0\n",
        "    self._epoch_no = 0\n",
        "    self._loss_hist = []\n",
        "    self._train_dev_loss_hist = []\n",
        "\n",
        "  def plot_mini_batch_loss(self, loss_history):\n",
        "    # Display the loss\n",
        "    plot_data = loss_history[::-1]\n",
        "    total = len(plot_data)\n",
        "    recent = int(0.20 * total)\n",
        "    x1 = [row[1] for row in plot_data]\n",
        "    y1 = [row[2] for row in plot_data]\n",
        "    x2 = [row[1] for row in plot_data[:recent]]\n",
        "    y2 = [row[2] for row in plot_data[:recent]]\n",
        "\n",
        "    #Entire loss curve\n",
        "    plt.subplot(2,1,1)\n",
        "    plt.plot(x1, y1)\n",
        "    plt.title('Loss across all iterations')\n",
        "    plt.xlabel('Iteration')\n",
        "    plt.ylabel('Loss')\n",
        "\n",
        "    #recent loss curve in last 10% of iterations\n",
        "    plt.subplot(2,1,2)\n",
        "    plt.plot(x2, y2)\n",
        "    plt.title('Loss in last {} iterations'.format(recent))\n",
        "    plt.xlabel('Iteration')\n",
        "    plt.ylabel('Loss')\n",
        "\n",
        "    plt.tight_layout()\n",
        "    plt.show()\n",
        "\n",
        "    print(loss_history[::-1][:(1)])\n",
        "\n",
        "  def plot_train_vs_dev(self, train_dev_loss):\n",
        "    plot_data = train_dev_loss\n",
        "\n",
        "    x = [row[0] for row in plot_data]\n",
        "    ytrain = [row[1] for row in plot_data]\n",
        "    ydev = [row[2] for row in plot_data]\n",
        "\n",
        "    plt.plot(x, ytrain, label ='Train')\n",
        "    plt.plot(x, ydev, '-.', label ='Dev')\n",
        "\n",
        "    plt.xlabel(\"Epoch data\")\n",
        "    plt.ylabel(\"Loss data\")\n",
        "    plt.legend()\n",
        "    plt.title('Train and Dev losses')\n",
        "    plt.show()\n",
        "\n",
        "  def make_pred(self):\n",
        "    ## Inference - Generate new names :)\n",
        "\n",
        "    print(\"***** Prediction of {} names *****\".format(next((k for k, v in name_files.items() if v == name_file), None)))\n",
        "    print('')\n",
        "\n",
        "    nid = 0\n",
        "    nop = 10\n",
        "\n",
        "    for i in range(nop):\n",
        "      ixes = torch.zeros((input_size), dtype = torch.int64)\n",
        "\n",
        "      pred = ''\n",
        "      while True:\n",
        "        # print(i, ixes)\n",
        "\n",
        "        encoded = []\n",
        "        for ix in ixes:\n",
        "          a = torch.nn.functional.one_hot(ix, num_classes=l).float()\n",
        "          encoded += a.tolist()\n",
        "        xenc = torch.tensor(encoded).view(1,-1)\n",
        "\n",
        "        W = self._weights[0]\n",
        "\n",
        "        logits = xenc @ W\n",
        "        cts = torch.exp(logits)\n",
        "        probx = cts/cts.sum(dim=1, keepdim=True)\n",
        "        ix = torch.multinomial(probx.view(l), 1, replacement=True, generator=g)\n",
        "\n",
        "        if ix.item() == 0:\n",
        "          break\n",
        "\n",
        "        ixes = torch.cat((ixes[1:],ix))\n",
        "        pred += itov.get(ix.item())\n",
        "\n",
        "      if pred in names:\n",
        "        pred += ' *** IN TRAINING SET********************'\n",
        "        nid += 1\n",
        "\n",
        "      print(pred)\n",
        "\n",
        "    print('')\n",
        "    print(f'{nid*100/nop}% found in training set')"
      ]
    },
    {
      "cell_type": "code",
      "execution_count": null,
      "metadata": {
        "colab": {
          "base_uri": "https://localhost:8080/"
        },
        "id": "gSnWTbOPmSbi",
        "outputId": "053c2149-2712-4d87-ddab-37438b620a37"
      },
      "outputs": [
        {
          "output_type": "stream",
          "name": "stdout",
          "text": [
            "54 27\n"
          ]
        }
      ],
      "source": [
        "t = 0.8\n",
        "d = 0.1\n",
        "lr = 5\n",
        "rl = 0.01\n",
        "\n",
        "nin = l * input_size\n",
        "nout = l\n",
        "print(nin, nout)\n",
        "\n",
        "l1 = Layer(nin,nout)\n",
        "#l2 = Layer(5,3)\n",
        "layers = [l1]\n",
        "\n",
        "# nn = Nnetwork(layers = layers, xs = xsenc_flat_ds[:10], ys = torch.tensor(ys[:10]), train_split = 0.8, dev_split = 0.1, bsize = 6, lr = 10, epoch=3, generator=g)\n",
        "nn = Nnetwork(layers = layers, xs = xsenc_flat_ds, ys = torch.tensor(ys), train_split = t, dev_split = d, bsize = 128, lr = lr, epoch=3, generator=g, rl = rl)"
      ]
    },
    {
      "cell_type": "code",
      "execution_count": null,
      "metadata": {
        "id": "HY-RUZQ7nnbl",
        "colab": {
          "base_uri": "https://localhost:8080/",
          "height": 295
        },
        "outputId": "e395538e-8d77-4f9d-a43a-0a64014c7599"
      },
      "outputs": [
        {
          "output_type": "display_data",
          "data": {
            "text/plain": [
              "<Figure size 432x288 with 1 Axes>"
            ],
            "image/png": "[encoded data removed]"
          },
          "metadata": {
            "needs_background": "light"
          }
        }
      ],
      "source": [
        "nn._lr = 5 #10\n",
        "nn._rl = 0.01\n",
        "\n",
        "for i in range(10):\n",
        "  nn.train(nn._train_xs, nn._train_ys)\n",
        "\n",
        "nn.plot_train_vs_dev(nn._train_dev_loss_hist[1:])"
      ]
    },
    {
      "cell_type": "code",
      "source": [
        "test_loss = (nn.forward_pass_and_loss(nn._test_xs, nn._test_ys)).item()\n",
        "full_loss = (nn.forward_pass_and_loss(nn._xs, nn._ys)).item()\n",
        "print(f'{test_loss=} {full_loss=}')"
      ],
      "metadata": {
        "colab": {
          "base_uri": "https://localhost:8080/"
        },
        "id": "ES9VbQU6Ud57",
        "outputId": "067b8a82-7743-4b43-8d82-3d0d2f61f17e"
      },
      "execution_count": null,
      "outputs": [
        {
          "output_type": "stream",
          "name": "stdout",
          "text": [
            "test_loss=2.1898412704467773 full_loss=2.136319637298584\n"
          ]
        }
      ]
    },
    {
      "cell_type": "code",
      "execution_count": null,
      "metadata": {
        "colab": {
          "base_uri": "https://localhost:8080/",
          "height": 314
        },
        "id": "rKLHbSQzszzR",
        "outputId": "3a4a730d-f95d-4f3d-dc36-fd3361fba2ff"
      },
      "outputs": [
        {
          "output_type": "display_data",
          "data": {
            "text/plain": [
              "<Figure size 432x288 with 2 Axes>"
            ],
            "image/png": "[encoded data removed]"
          },
          "metadata": {
            "needs_background": "light"
          }
        },
        {
          "output_type": "stream",
          "name": "stdout",
          "text": [
            "[[5, 63180, 2.0498433113098145]]\n"
          ]
        }
      ],
      "source": [
        "nn.plot_mini_batch_loss(nn._loss_hist)"
      ]
    },
    {
      "cell_type": "code",
      "source": [
        "nn.plot_train_vs_dev(nn._train_dev_loss_hist[1:])\n",
        "nn._train_dev_loss_hist"
      ],
      "metadata": {
        "colab": {
          "base_uri": "https://localhost:8080/",
          "height": 642
        },
        "id": "C7l2EDoHlmRI",
        "outputId": "afa521de-df75-42c9-e68b-a65d821e61ef"
      },
      "execution_count": null,
      "outputs": [
        {
          "output_type": "display_data",
          "data": {
            "text/plain": [
              "<Figure size 432x288 with 1 Axes>"
            ],
            "image/png": "[encoded data removed]"
          },
          "metadata": {
            "needs_background": "light"
          }
        },
        {
          "output_type": "execute_result",
          "data": {
            "text/plain": [
              "[[0, 3.9817862510681152, 3.945720911026001],\n",
              " [1, 2.129953145980835, 2.169173240661621],\n",
              " [2, 2.126447916030884, 2.142277956008911],\n",
              " [3, 2.126657485961914, 2.178006887435913],\n",
              " [4, 2.1235735416412354, 2.1700077056884766],\n",
              " [5, 2.1277735233306885, 2.180600881576538],\n",
              " [6, 2.1246938705444336, 2.171602249145508],\n",
              " [7, 2.1243185997009277, 2.169128179550171],\n",
              " [8, 2.1255574226379395, 2.154714345932007],\n",
              " [9, 2.1236965656280518, 2.176758289337158],\n",
              " [10, 2.1285691261291504, 2.1853113174438477],\n",
              " [11, 2.1265571117401123, 2.1856348514556885],\n",
              " [12, 2.127528429031372, 2.1767847537994385],\n",
              " [13, 2.1256263256073, 2.1813805103302],\n",
              " [14, 2.127817392349243, 2.164466142654419],\n",
              " [15, 2.129385471343994, 2.1488614082336426],\n",
              " [16, 2.1229910850524902, 2.1794774532318115],\n",
              " [17, 2.1237196922302246, 2.1599957942962646],\n",
              " [18, 2.1291685104370117, 2.187633752822876],\n",
              " [19, 2.1278374195098877, 2.175415515899658]]"
            ]
          },
          "metadata": {},
          "execution_count": 37
        }
      ]
    },
    {
      "cell_type": "code",
      "execution_count": null,
      "metadata": {
        "id": "D-ashgXth6k4",
        "colab": {
          "base_uri": "https://localhost:8080/"
        },
        "outputId": "df504336-103a-4a13-d151-9072ba2d295d"
      },
      "outputs": [
        {
          "output_type": "stream",
          "name": "stdout",
          "text": [
            "***** Prediction of Indian names *****\n",
            "\n",
            "shi\n",
            "jararsha\n",
            "tarnyan\n",
            "thanotanayahindhanikaleh\n",
            "cadhwarrshwaprakritap\n",
            "bren\n",
            "nackor\n",
            "ilangan\n",
            "hmin\n",
            "maleveethyan\n",
            "\n",
            "0.0% found in training set\n"
          ]
        }
      ],
      "source": [
        "nn.make_pred()"
      ]
    },
    {
      "cell_type": "code",
      "source": [],
      "metadata": {
        "id": "tXtufLjoRW8D"
      },
      "execution_count": null,
      "outputs": []
    }
  ],
  "metadata": {
    "colab": {
      "provenance": [],
      "mount_file_id": "1Nq0cdI8FBqq4e5p_ji9x3JmLmAL_OQY2",
      "authorship_tag": "ABX9TyMrDQQrwhV3iiPx58RnyhtT",
      "include_colab_link": true
    },
    "kernelspec": {
      "display_name": "Python 3",
      "name": "python3"
    },
    "language_info": {
      "name": "python"
    }
  },
  "nbformat": 4,
  "nbformat_minor": 0
}