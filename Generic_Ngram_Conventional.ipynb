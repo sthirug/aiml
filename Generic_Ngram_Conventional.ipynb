{
  "nbformat": 4,
  "nbformat_minor": 0,
  "metadata": {
    "colab": {
      "provenance": [],
      "mount_file_id": "1z9-6Cp5Caqm_0xv33SpFy3fQgRSJ280y",
      "authorship_tag": "ABX9TyN2BmMehmA9Oxi3cNx4ow78",
      "include_colab_link": true
    },
    "kernelspec": {
      "name": "python3",
      "display_name": "Python 3"
    },
    "language_info": {
      "name": "python"
    }
  },
  "cells": [
    {
      "cell_type": "markdown",
      "metadata": {
        "id": "view-in-github",
        "colab_type": "text"
      },
      "source": [
        "<a href=\"https://colab.research.google.com/github/sthirug/aiml/blob/main/Generic_Ngram_Conventional.ipynb\" target=\"_parent\"><img src=\"https://colab.research.google.com/assets/colab-badge.svg\" alt=\"Open In Colab\"/></a>"
      ]
    },
    {
      "cell_type": "code",
      "execution_count": null,
      "metadata": {
        "id": "tHaPyWzNf38V"
      },
      "outputs": [],
      "source": [
        "import torch\n",
        "import os"
      ]
    },
    {
      "cell_type": "code",
      "source": [
        "ngram_size = 3\n",
        "input_size = ngram_size - 1\n",
        "\n",
        "#all_names = open('/content/drive/MyDrive/Colab Notebooks/names.txt','r').read().lower()\n",
        "all_names = open('/content/drive/MyDrive/Colab Notebooks/DL Experiments/IndianNames.txt','r').read().lower()\n",
        "\n",
        "unclean = ['.', ' ','-']\n",
        "for u in unclean:\n",
        "  all_names = all_names.replace(u, '')\n",
        "\n",
        "words = all_names.splitlines()\n",
        "len(words)"
      ],
      "metadata": {
        "colab": {
          "base_uri": "https://localhost:8080/"
        },
        "id": "GStza9cxf8Ox",
        "outputId": "323caee1-a8d0-4952-836f-7649dbf9ba70"
      },
      "execution_count": null,
      "outputs": [
        {
          "output_type": "execute_result",
          "data": {
            "text/plain": [
              "55691"
            ]
          },
          "metadata": {},
          "execution_count": 2
        }
      ]
    },
    {
      "cell_type": "code",
      "source": [
        "import matplotlib.pyplot as plt\n",
        "\n",
        "w_lens = [len(w) for w in words]\n",
        "\n",
        "plt.hist(w_lens, bins=max(w_lens))\n",
        "plt.title('Distribution of word lengths')\n",
        "plt.show()"
      ],
      "metadata": {
        "id": "kg4BnRqqDpox",
        "colab": {
          "base_uri": "https://localhost:8080/",
          "height": 281
        },
        "outputId": "dbc89ee9-0a45-4c59-c3ad-143612f37a33"
      },
      "execution_count": null,
      "outputs": [
        {
          "output_type": "display_data",
          "data": {
            "text/plain": [
              "<Figure size 432x288 with 1 Axes>"
            ],
            "image/png": "[encoded data removed]"
          },
          "metadata": {
            "needs_background": "light"
          }
        }
      ]
    },
    {
      "cell_type": "code",
      "source": [
        "uchars = ['.'] + sorted(set(''.join(words)))\n",
        "l=len(uchars)\n",
        "uchars"
      ],
      "metadata": {
        "id": "Dh9NsRFdgU_S",
        "colab": {
          "base_uri": "https://localhost:8080/"
        },
        "outputId": "dfbb1001-930f-45ab-a418-37f2a85d7288"
      },
      "execution_count": null,
      "outputs": [
        {
          "output_type": "execute_result",
          "data": {
            "text/plain": [
              "['.',\n",
              " 'a',\n",
              " 'b',\n",
              " 'c',\n",
              " 'd',\n",
              " 'e',\n",
              " 'f',\n",
              " 'g',\n",
              " 'h',\n",
              " 'i',\n",
              " 'j',\n",
              " 'k',\n",
              " 'l',\n",
              " 'm',\n",
              " 'n',\n",
              " 'o',\n",
              " 'p',\n",
              " 'q',\n",
              " 'r',\n",
              " 's',\n",
              " 't',\n",
              " 'u',\n",
              " 'v',\n",
              " 'w',\n",
              " 'x',\n",
              " 'y',\n",
              " 'z']"
            ]
          },
          "metadata": {},
          "execution_count": 4
        }
      ]
    },
    {
      "cell_type": "code",
      "source": [
        "prefix = ''.join(['.' for _ in range(input_size)])\n",
        "print(prefix)\n",
        "\n",
        "tp = [l for _ in range(ngram_size)]\n",
        "dim_size = tuple(tp)\n",
        "dim_size"
      ],
      "metadata": {
        "colab": {
          "base_uri": "https://localhost:8080/"
        },
        "id": "v1pZ7Do93DJC",
        "outputId": "cd15a018-48a7-4576-dda0-5b5cba196fa6"
      },
      "execution_count": null,
      "outputs": [
        {
          "output_type": "stream",
          "name": "stdout",
          "text": [
            "..\n"
          ]
        },
        {
          "output_type": "execute_result",
          "data": {
            "text/plain": [
              "(27, 27, 27)"
            ]
          },
          "metadata": {},
          "execution_count": 5
        }
      ]
    },
    {
      "cell_type": "code",
      "source": [
        "examples = []\n",
        "\n",
        "for w in words:\n",
        "  w = prefix + w + '.'\n",
        "  #print(w)\n",
        "  for i in range(len(w) - input_size):\n",
        "    t = w[i:i+ngram_size]\n",
        "    examples.append([t[:input_size], t[input_size:]])\n",
        "\n",
        "examples[:10]"
      ],
      "metadata": {
        "id": "RhTnUsnKmTlq",
        "colab": {
          "base_uri": "https://localhost:8080/"
        },
        "outputId": "033816b1-58fd-4471-e058-660554cd9e72"
      },
      "execution_count": null,
      "outputs": [
        {
          "output_type": "execute_result",
          "data": {
            "text/plain": [
              "[['..', 'a'],\n",
              " ['.a', 'a'],\n",
              " ['aa', 'b'],\n",
              " ['ab', 'a'],\n",
              " ['ba', 'n'],\n",
              " ['an', '.'],\n",
              " ['..', 'a'],\n",
              " ['.a', 'a'],\n",
              " ['aa', 'b'],\n",
              " ['ab', 'h']]"
            ]
          },
          "metadata": {},
          "execution_count": 6
        }
      ]
    },
    {
      "cell_type": "code",
      "source": [
        "stoi = {c:i for i,c in enumerate(uchars)}\n",
        "stoi"
      ],
      "metadata": {
        "id": "hSksIPC-p4GQ",
        "colab": {
          "base_uri": "https://localhost:8080/"
        },
        "outputId": "bf515497-d77e-4f18-8768-e609758b6c01"
      },
      "execution_count": null,
      "outputs": [
        {
          "output_type": "execute_result",
          "data": {
            "text/plain": [
              "{'.': 0,\n",
              " 'a': 1,\n",
              " 'b': 2,\n",
              " 'c': 3,\n",
              " 'd': 4,\n",
              " 'e': 5,\n",
              " 'f': 6,\n",
              " 'g': 7,\n",
              " 'h': 8,\n",
              " 'i': 9,\n",
              " 'j': 10,\n",
              " 'k': 11,\n",
              " 'l': 12,\n",
              " 'm': 13,\n",
              " 'n': 14,\n",
              " 'o': 15,\n",
              " 'p': 16,\n",
              " 'q': 17,\n",
              " 'r': 18,\n",
              " 's': 19,\n",
              " 't': 20,\n",
              " 'u': 21,\n",
              " 'v': 22,\n",
              " 'w': 23,\n",
              " 'x': 24,\n",
              " 'y': 25,\n",
              " 'z': 26}"
            ]
          },
          "metadata": {},
          "execution_count": 7
        }
      ]
    },
    {
      "cell_type": "code",
      "source": [
        "itos = {i:c for i,c in enumerate(uchars)}\n",
        "itos"
      ],
      "metadata": {
        "id": "orPHuuo_p3vG",
        "colab": {
          "base_uri": "https://localhost:8080/"
        },
        "outputId": "b5487bc2-6c64-4dab-ed0d-2ffcc16ad1c7"
      },
      "execution_count": null,
      "outputs": [
        {
          "output_type": "execute_result",
          "data": {
            "text/plain": [
              "{0: '.',\n",
              " 1: 'a',\n",
              " 2: 'b',\n",
              " 3: 'c',\n",
              " 4: 'd',\n",
              " 5: 'e',\n",
              " 6: 'f',\n",
              " 7: 'g',\n",
              " 8: 'h',\n",
              " 9: 'i',\n",
              " 10: 'j',\n",
              " 11: 'k',\n",
              " 12: 'l',\n",
              " 13: 'm',\n",
              " 14: 'n',\n",
              " 15: 'o',\n",
              " 16: 'p',\n",
              " 17: 'q',\n",
              " 18: 'r',\n",
              " 19: 's',\n",
              " 20: 't',\n",
              " 21: 'u',\n",
              " 22: 'v',\n",
              " 23: 'w',\n",
              " 24: 'x',\n",
              " 25: 'y',\n",
              " 26: 'z'}"
            ]
          },
          "metadata": {},
          "execution_count": 8
        }
      ]
    },
    {
      "cell_type": "code",
      "source": [
        "N = torch.zeros(dim_size)\n",
        "N.shape\n",
        "N[0]"
      ],
      "metadata": {
        "colab": {
          "base_uri": "https://localhost:8080/"
        },
        "id": "jr-b5T-O8lvf",
        "outputId": "fd870eb6-c186-4fdd-8e24-52e4c1e04a89"
      },
      "execution_count": null,
      "outputs": [
        {
          "output_type": "execute_result",
          "data": {
            "text/plain": [
              "tensor([[0., 0., 0., 0., 0., 0., 0., 0., 0., 0., 0., 0., 0., 0., 0., 0., 0., 0., 0., 0., 0., 0., 0., 0.,\n",
              "         0., 0., 0.],\n",
              "        [0., 0., 0., 0., 0., 0., 0., 0., 0., 0., 0., 0., 0., 0., 0., 0., 0., 0., 0., 0., 0., 0., 0., 0.,\n",
              "         0., 0., 0.],\n",
              "        [0., 0., 0., 0., 0., 0., 0., 0., 0., 0., 0., 0., 0., 0., 0., 0., 0., 0., 0., 0., 0., 0., 0., 0.,\n",
              "         0., 0., 0.],\n",
              "        [0., 0., 0., 0., 0., 0., 0., 0., 0., 0., 0., 0., 0., 0., 0., 0., 0., 0., 0., 0., 0., 0., 0., 0.,\n",
              "         0., 0., 0.],\n",
              "        [0., 0., 0., 0., 0., 0., 0., 0., 0., 0., 0., 0., 0., 0., 0., 0., 0., 0., 0., 0., 0., 0., 0., 0.,\n",
              "         0., 0., 0.],\n",
              "        [0., 0., 0., 0., 0., 0., 0., 0., 0., 0., 0., 0., 0., 0., 0., 0., 0., 0., 0., 0., 0., 0., 0., 0.,\n",
              "         0., 0., 0.],\n",
              "        [0., 0., 0., 0., 0., 0., 0., 0., 0., 0., 0., 0., 0., 0., 0., 0., 0., 0., 0., 0., 0., 0., 0., 0.,\n",
              "         0., 0., 0.],\n",
              "        [0., 0., 0., 0., 0., 0., 0., 0., 0., 0., 0., 0., 0., 0., 0., 0., 0., 0., 0., 0., 0., 0., 0., 0.,\n",
              "         0., 0., 0.],\n",
              "        [0., 0., 0., 0., 0., 0., 0., 0., 0., 0., 0., 0., 0., 0., 0., 0., 0., 0., 0., 0., 0., 0., 0., 0.,\n",
              "         0., 0., 0.],\n",
              "        [0., 0., 0., 0., 0., 0., 0., 0., 0., 0., 0., 0., 0., 0., 0., 0., 0., 0., 0., 0., 0., 0., 0., 0.,\n",
              "         0., 0., 0.],\n",
              "        [0., 0., 0., 0., 0., 0., 0., 0., 0., 0., 0., 0., 0., 0., 0., 0., 0., 0., 0., 0., 0., 0., 0., 0.,\n",
              "         0., 0., 0.],\n",
              "        [0., 0., 0., 0., 0., 0., 0., 0., 0., 0., 0., 0., 0., 0., 0., 0., 0., 0., 0., 0., 0., 0., 0., 0.,\n",
              "         0., 0., 0.],\n",
              "        [0., 0., 0., 0., 0., 0., 0., 0., 0., 0., 0., 0., 0., 0., 0., 0., 0., 0., 0., 0., 0., 0., 0., 0.,\n",
              "         0., 0., 0.],\n",
              "        [0., 0., 0., 0., 0., 0., 0., 0., 0., 0., 0., 0., 0., 0., 0., 0., 0., 0., 0., 0., 0., 0., 0., 0.,\n",
              "         0., 0., 0.],\n",
              "        [0., 0., 0., 0., 0., 0., 0., 0., 0., 0., 0., 0., 0., 0., 0., 0., 0., 0., 0., 0., 0., 0., 0., 0.,\n",
              "         0., 0., 0.],\n",
              "        [0., 0., 0., 0., 0., 0., 0., 0., 0., 0., 0., 0., 0., 0., 0., 0., 0., 0., 0., 0., 0., 0., 0., 0.,\n",
              "         0., 0., 0.],\n",
              "        [0., 0., 0., 0., 0., 0., 0., 0., 0., 0., 0., 0., 0., 0., 0., 0., 0., 0., 0., 0., 0., 0., 0., 0.,\n",
              "         0., 0., 0.],\n",
              "        [0., 0., 0., 0., 0., 0., 0., 0., 0., 0., 0., 0., 0., 0., 0., 0., 0., 0., 0., 0., 0., 0., 0., 0.,\n",
              "         0., 0., 0.],\n",
              "        [0., 0., 0., 0., 0., 0., 0., 0., 0., 0., 0., 0., 0., 0., 0., 0., 0., 0., 0., 0., 0., 0., 0., 0.,\n",
              "         0., 0., 0.],\n",
              "        [0., 0., 0., 0., 0., 0., 0., 0., 0., 0., 0., 0., 0., 0., 0., 0., 0., 0., 0., 0., 0., 0., 0., 0.,\n",
              "         0., 0., 0.],\n",
              "        [0., 0., 0., 0., 0., 0., 0., 0., 0., 0., 0., 0., 0., 0., 0., 0., 0., 0., 0., 0., 0., 0., 0., 0.,\n",
              "         0., 0., 0.],\n",
              "        [0., 0., 0., 0., 0., 0., 0., 0., 0., 0., 0., 0., 0., 0., 0., 0., 0., 0., 0., 0., 0., 0., 0., 0.,\n",
              "         0., 0., 0.],\n",
              "        [0., 0., 0., 0., 0., 0., 0., 0., 0., 0., 0., 0., 0., 0., 0., 0., 0., 0., 0., 0., 0., 0., 0., 0.,\n",
              "         0., 0., 0.],\n",
              "        [0., 0., 0., 0., 0., 0., 0., 0., 0., 0., 0., 0., 0., 0., 0., 0., 0., 0., 0., 0., 0., 0., 0., 0.,\n",
              "         0., 0., 0.],\n",
              "        [0., 0., 0., 0., 0., 0., 0., 0., 0., 0., 0., 0., 0., 0., 0., 0., 0., 0., 0., 0., 0., 0., 0., 0.,\n",
              "         0., 0., 0.],\n",
              "        [0., 0., 0., 0., 0., 0., 0., 0., 0., 0., 0., 0., 0., 0., 0., 0., 0., 0., 0., 0., 0., 0., 0., 0.,\n",
              "         0., 0., 0.],\n",
              "        [0., 0., 0., 0., 0., 0., 0., 0., 0., 0., 0., 0., 0., 0., 0., 0., 0., 0., 0., 0., 0., 0., 0., 0.,\n",
              "         0., 0., 0.]])"
            ]
          },
          "metadata": {},
          "execution_count": 9
        }
      ]
    },
    {
      "cell_type": "code",
      "source": [
        "#N = torch.zeros(l,l,l)\n",
        "N = torch.zeros(dim_size)\n",
        "\n",
        "for e in examples:\n",
        "  ixes = []\n",
        "  ex = e[0] + e[1]\n",
        "\n",
        "  for i in range(ngram_size):\n",
        "    c = ex[i]\n",
        "    ix = stoi.get(c)\n",
        "    ixes.append(ix)\n",
        "\n",
        "  dims = tuple(ixes)\n",
        "  N[dims] += 1\n",
        "\n",
        "N.sum()"
      ],
      "metadata": {
        "colab": {
          "base_uri": "https://localhost:8080/"
        },
        "id": "pLyC9dzBpaIA",
        "outputId": "8a7fed2b-6fd0-480b-b96d-b61dbadec4f7"
      },
      "execution_count": null,
      "outputs": [
        {
          "output_type": "execute_result",
          "data": {
            "text/plain": [
              "tensor(505457.)"
            ]
          },
          "metadata": {},
          "execution_count": 10
        }
      ]
    },
    {
      "cell_type": "code",
      "source": [
        "#print(len(examples))\n",
        "#N[0][0][0].item()"
      ],
      "metadata": {
        "id": "6wpuJvChpbFK"
      },
      "execution_count": null,
      "outputs": []
    },
    {
      "cell_type": "code",
      "source": [
        "N.add_(torch.ones(1))\n",
        "N.sum()"
      ],
      "metadata": {
        "id": "d25gkdr-tqeh",
        "colab": {
          "base_uri": "https://localhost:8080/"
        },
        "outputId": "184f253d-7924-425d-a4e9-460684939643"
      },
      "execution_count": null,
      "outputs": [
        {
          "output_type": "execute_result",
          "data": {
            "text/plain": [
              "tensor(525140.)"
            ]
          },
          "metadata": {},
          "execution_count": 12
        }
      ]
    },
    {
      "cell_type": "code",
      "source": [
        "#len(words)\n",
        "#N.reshape(27**2,27).sum(dim = 1).shape"
      ],
      "metadata": {
        "id": "FVRzvBc_yde7"
      },
      "execution_count": null,
      "outputs": []
    },
    {
      "cell_type": "code",
      "source": [
        "T = N.sum(dim =(ngram_size-1), keepdim=True)\n",
        "T.shape"
      ],
      "metadata": {
        "id": "sxD1kf7xyrCT",
        "colab": {
          "base_uri": "https://localhost:8080/"
        },
        "outputId": "9df2be64-b4b3-4e38-a896-a6265f71fb22"
      },
      "execution_count": null,
      "outputs": [
        {
          "output_type": "execute_result",
          "data": {
            "text/plain": [
              "torch.Size([27, 27, 1])"
            ]
          },
          "metadata": {},
          "execution_count": 14
        }
      ]
    },
    {
      "cell_type": "code",
      "source": [
        "# #spot check\n",
        "# key = 'ab'\n",
        "# ix1 = stoi.get(key[:1])\n",
        "# ix2 = stoi.get(key[1:2])\n",
        "# print('Sum from N/T -> {}'.format(T[ix1][ix2].item()))\n",
        "\n",
        "# temp = [e for e in examples if e[0] == key]\n",
        "# #print(temp[:10])\n",
        "# print(len(temp) + l)\n",
        "\n",
        "# N[1][5]\n",
        "# 6/N[1][5].sum()\n",
        "# P[1][5]"
      ],
      "metadata": {
        "id": "t6K6FEaz0N2C"
      },
      "execution_count": null,
      "outputs": []
    },
    {
      "cell_type": "code",
      "source": [
        "P = N/T"
      ],
      "metadata": {
        "id": "JjxSudsNkC9q"
      },
      "execution_count": null,
      "outputs": []
    },
    {
      "cell_type": "code",
      "source": [
        "# N   ->.  27 x 27 x 27\n",
        "# T.  ->.  27 x 27 x  1"
      ],
      "metadata": {
        "id": "VGYEmUZZSFtY"
      },
      "execution_count": null,
      "outputs": []
    },
    {
      "cell_type": "code",
      "source": [
        "#make prediction\n",
        "itts = 0\n",
        "ntp = 10\n",
        "\n",
        "for _ in range(ntp):\n",
        "  pred = ''\n",
        "\n",
        "  ixes = [0 for _ in range(ngram_size - 1)]\n",
        "\n",
        "  while True:\n",
        "    dims = tuple(ixes)\n",
        "    p = P[dims]\n",
        "\n",
        "    ix = torch.multinomial(p, 1, replacement=True).item()\n",
        "\n",
        "    if ix == 0:\n",
        "      if len(pred.strip()) == 0:\n",
        "        print(f'{pred=}')\n",
        "        print(f'{dims=}')\n",
        "        print(p)\n",
        "      break;\n",
        "\n",
        "    pred += itos[ix]\n",
        "\n",
        "    for j in range(ngram_size - 2):\n",
        "      ixes[j] = ixes[j + 1]\n",
        "\n",
        "    ixes[-1] = ix\n",
        "\n",
        "  print(pred)\n",
        "\n",
        "  if pred in words:\n",
        "    itts += 1\n",
        "    print(f'******{pred} in training set')\n",
        "\n",
        "print(f'####### {itts*100/ntp}% predictions were in training set')"
      ],
      "metadata": {
        "colab": {
          "base_uri": "https://localhost:8080/"
        },
        "id": "jLLsAEQwTSsD",
        "outputId": "ed0e3006-e37e-41b2-aa9d-b60662c11f6a"
      },
      "execution_count": null,
      "outputs": [
        {
          "output_type": "stream",
          "name": "stdout",
          "text": [
            "sugavkiraganthya\n",
            "mi\n",
            "yogavyamsan\n",
            "thiya\n",
            "******thiya in training set\n",
            "maaman\n",
            "han\n",
            "eshimaysenthi\n",
            "neilamshapripripiranan\n",
            "tyashieertejathurg\n",
            "aharahan\n",
            "####### 10.0% predictions were in training set\n"
          ]
        }
      ]
    },
    {
      "cell_type": "code",
      "source": [],
      "metadata": {
        "id": "k2xUAdnewxY9"
      },
      "execution_count": null,
      "outputs": []
    },
    {
      "cell_type": "code",
      "source": [
        "# Calculate the loss\n",
        "\n",
        "ll = 0\n",
        "n = 0\n",
        "\n",
        "for e in examples:\n",
        "  ixes = [stoi.get(c) for c in e[0]]\n",
        "  # print(e, ixes)\n",
        "\n",
        "  iy = [stoi.get(e[1])]\n",
        "\n",
        "  dims = tuple(ixes + iy)\n",
        "  p = P[dims]\n",
        "\n",
        "  ll += torch.log(p)\n",
        "  n += 1\n",
        "\n",
        "loss = -(ll/n).item()\n",
        "  \n",
        "# print(ll)\n",
        "# print(ll/n)\n",
        "print(f'{loss=}')\n",
        "print(f'{n=}')"
      ],
      "metadata": {
        "colab": {
          "base_uri": "https://localhost:8080/"
        },
        "id": "z_Txx4PD6CQW",
        "outputId": "f49dc7e3-1abb-4d29-eab1-3b5960438bdb"
      },
      "execution_count": null,
      "outputs": [
        {
          "output_type": "stream",
          "name": "stdout",
          "text": [
            "loss=2.016958713531494\n",
            "n=505457\n"
          ]
        }
      ]
    },
    {
      "cell_type": "markdown",
      "source": [
        "**Interesting observation**\n",
        "\n",
        "Names.txt | Loss for various N-gram values\n",
        "N-gram -> Loss\n",
        "\n",
        "* 2 -> 2.45\n",
        "* 3 -> 2.21\n",
        "* 4 -> 2.08\n",
        "* 5 -> 2.15\n",
        "* 6 -> 2.27\n",
        "\n",
        "IndianNames.txt | Loss for various N-gram values\n",
        "N-gram -> Loss\n",
        "\n",
        "* 2 -> 2.1828\n",
        "* 3 -> 2.0169\n",
        "* 4 -> 1.8963\n",
        "* 5 -> 1.8975\n",
        "* 6 -> 1.9927"
      ],
      "metadata": {
        "id": "U1Lg_55hFzL4"
      }
    },
    {
      "cell_type": "code",
      "source": [],
      "metadata": {
        "id": "h-JpO5SZ6iqJ"
      },
      "execution_count": null,
      "outputs": []
    }
  ]
}